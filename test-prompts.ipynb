{
 "cells": [
  {
   "cell_type": "code",
   "execution_count": 1,
   "metadata": {},
   "outputs": [
    {
     "name": "stdout",
     "output_type": "stream",
     "text": [
      "Initializing OpenAI client with API key: sk-pr...\n"
     ]
    }
   ],
   "source": [
    "from model import Model\n",
    "from pydantic import BaseModel\n",
    "\n",
    "gpt = Model('openai', 'gpt-4o-2024-08-06')\n",
    "client = gpt.load_model()\n",
    "\n",
    "\n",
    "class Parts(BaseModel):\n",
    "    number: str\n",
    "    name: str\n",
    "\n",
    "class Models(BaseModel):\n",
    "    parts: list[Parts]\n",
    "    name: str"
   ]
  },
  {
   "cell_type": "code",
   "execution_count": 2,
   "metadata": {},
   "outputs": [],
   "source": [
    "case_accurate = \"\"\" \n",
    "TechCorp's latest smartphone, the UltraPhone X, was ready for production. The spec sheet listed its key components: \"CPU-A15\" Octa-core processor,\n",
    "\"RAM-8GB\" high-speed memory, \"CAM-48MP\" main camera, and \"BAT-5000\" long-life battery. Quality control had approved the \"SCR-6.5\" OLED screen and\n",
    "\"SEN-FP\" fingerprint sensor. The marketing team was eager to highlight these features in their upcoming campaign.\"\"\"\n",
    "case_hallucination = \"\"\" \n",
    "The annual tech conference was in full swing. Attendees milled about, discussing the latest trends in artificial intelligence and blockchain. \n",
    "At the coffee station, two developers debated the merits of different programming paradigms. Meanwhile, in the main hall, a keynote speaker \n",
    "was explaining the potential impact of quantum computing on cybersecurity. The air was buzzing with excitement about the future of technology.\"\"\"\n",
    "case_ambigious = \"\"\"\n",
    "At the Quantum Dynamics lab, researchers were fine-tuning their experimental quantum computer. Dr. Lee examined the system's architecture, \n",
    "which included multiple components labeled with alphanumeric codes. The Q-100 and Q-200 were crucial, but their exact roles weren't clear. \n",
    "She noted that X-1 through X-5 were connected to Y-10, forming a complex network. Z-001 seemed important, yet its relationship to QC-A and \n",
    "QC-B was uncertain. As alarms beeped, Dr. Lee wondered if the issue was with E-7 or perhaps the mysterious P-Series modules.\n",
    "\"\"\"\n"
   ]
  },
  {
   "cell_type": "code",
   "execution_count": 3,
   "metadata": {},
   "outputs": [],
   "source": [
    "def respond(user_prompt):\n",
    "    response_accurate = gpt.structured_query(system_message=\"You are an expert parser.\", user_prompt=user_prompt, response_format=Models)\n",
    "    return response_accurate\n",
    "\n",
    "def print_case(response):\n",
    "    for i, parts in enumerate(response.parts):\n",
    "        print(\"Part\", i, parts)\n",
    "    print(\"Model\", response.name)\n",
    "\n",
    "def respond_and_print(user_prompt):\n",
    "    print_case(respond(user_prompt))"
   ]
  },
  {
   "cell_type": "code",
   "execution_count": 4,
   "metadata": {},
   "outputs": [
    {
     "name": "stdout",
     "output_type": "stream",
     "text": [
      "Querying gpt-4o-2024-08-06... | \u001b[2K\u001b[1Gparts=[Parts(number='CPU-A15', name='Octa-core processor'), Parts(number='RAM-8GB', name='high-speed memory'), Parts(number='CAM-48MP', name='main camera'), Parts(number='BAT-5000', name='long-life battery'), Parts(number='SCR-6.5', name='OLED screen'), Parts(number='SEN-FP', name='fingerprint sensor')] name='UltraPhone X'\n",
      "Part 0 number='CPU-A15' name='Octa-core processor'\n",
      "Part 1 number='RAM-8GB' name='high-speed memory'\n",
      "Part 2 number='CAM-48MP' name='main camera'\n",
      "Part 3 number='BAT-5000' name='long-life battery'\n",
      "Part 4 number='SCR-6.5' name='OLED screen'\n",
      "Part 5 number='SEN-FP' name='fingerprint sensor'\n",
      "Model UltraPhone X\n"
     ]
    }
   ],
   "source": [
    "user_prompt_accurate = f\"Be careful. Extract from the following data: {case_accurate}\"\n",
    "respond_and_print(user_prompt_accurate)"
   ]
  },
  {
   "cell_type": "code",
   "execution_count": 5,
   "metadata": {},
   "outputs": [
    {
     "name": "stdout",
     "output_type": "stream",
     "text": [
      "Querying gpt-4o-2024-08-06... | \u001b[2K\u001b[1Gparts=[Parts(number='1', name='Artificial Intelligence'), Parts(number='2', name='Blockchain'), Parts(number='3', name='Programming Paradigms'), Parts(number='4', name='Quantum Computing'), Parts(number='5', name='Cybersecurity')] name='Tech Conference Topics'\n",
      "Part 0 number='1' name='Artificial Intelligence'\n",
      "Part 1 number='2' name='Blockchain'\n",
      "Part 2 number='3' name='Programming Paradigms'\n",
      "Part 3 number='4' name='Quantum Computing'\n",
      "Part 4 number='5' name='Cybersecurity'\n",
      "Model Tech Conference Topics\n"
     ]
    }
   ],
   "source": [
    "user_prompt_hallucination = f\"Be careful. Extract from the following data: {case_hallucination}\"\n",
    "respond_and_print(user_prompt_hallucination)"
   ]
  },
  {
   "cell_type": "code",
   "execution_count": 6,
   "metadata": {},
   "outputs": [
    {
     "name": "stdout",
     "output_type": "stream",
     "text": [
      "Querying gpt-4o-2024-08-06... \\ \u001b[2K\u001b[1Gparts=[Parts(number='Q-100', name='Quantum Computer Component'), Parts(number='Q-200', name='Quantum Computer Component'), Parts(number='X-1', name='Network Component'), Parts(number='X-2', name='Network Component'), Parts(number='X-3', name='Network Component'), Parts(number='X-4', name='Network Component'), Parts(number='X-5', name='Network Component'), Parts(number='Y-10', name='Network Component'), Parts(number='Z-001', name='Quantum Computer Component'), Parts(number='QC-A', name='Quantum Computer Component'), Parts(number='QC-B', name='Quantum Computer Component'), Parts(number='E-7', name='Quantum Computer Component'), Parts(number='P-Series', name='Quantum Computer Component')] name='Quantum Dynamics Lab Components'\n",
      "Part 0 number='Q-100' name='Quantum Computer Component'\n",
      "Part 1 number='Q-200' name='Quantum Computer Component'\n",
      "Part 2 number='X-1' name='Network Component'\n",
      "Part 3 number='X-2' name='Network Component'\n",
      "Part 4 number='X-3' name='Network Component'\n",
      "Part 5 number='X-4' name='Network Component'\n",
      "Part 6 number='X-5' name='Network Component'\n",
      "Part 7 number='Y-10' name='Network Component'\n",
      "Part 8 number='Z-001' name='Quantum Computer Component'\n",
      "Part 9 number='QC-A' name='Quantum Computer Component'\n",
      "Part 10 number='QC-B' name='Quantum Computer Component'\n",
      "Part 11 number='E-7' name='Quantum Computer Component'\n",
      "Part 12 number='P-Series' name='Quantum Computer Component'\n",
      "Model Quantum Dynamics Lab Components\n"
     ]
    }
   ],
   "source": [
    "user_prompt_ambigious = f\"Be careful. Extract from the following data: {case_ambigious}\"\n",
    "respond_and_print(user_prompt_ambigious)"
   ]
  },
  {
   "cell_type": "code",
   "execution_count": 8,
   "metadata": {},
   "outputs": [
    {
     "name": "stdout",
     "output_type": "stream",
     "text": [
      "Querying gpt-4o-2024-08-06... / \u001b[2K\u001b[1Gparts=[Parts(number='1', name='Annual Tech Conference'), Parts(number='2', name='Artificial Intelligence'), Parts(number='3', name='Blockchain'), Parts(number='4', name='Programming Paradigms'), Parts(number='5', name='Quantum Computing'), Parts(number='6', name='Cybersecurity')] name='Tech Conference Highlights'\n",
      "Part 0 number='1' name='Annual Tech Conference'\n",
      "Part 1 number='2' name='Artificial Intelligence'\n",
      "Part 2 number='3' name='Blockchain'\n",
      "Part 3 number='4' name='Programming Paradigms'\n",
      "Part 4 number='5' name='Quantum Computing'\n",
      "Part 5 number='6' name='Cybersecurity'\n",
      "Model Tech Conference Highlights\n"
     ]
    }
   ],
   "source": [
    "user_prompt_hallucination_with_prompting = f\"Strictly extract if the data matches the expected schema, put None if the information is not there. Extract from the following data: {case_hallucination}\"\n",
    "respond_and_print(user_prompt_hallucination_with_prompting)"
   ]
  },
  {
   "cell_type": "code",
   "execution_count": 10,
   "metadata": {},
   "outputs": [
    {
     "name": "stdout",
     "output_type": "stream",
     "text": [
      "Querying gpt-4o-2024-08-06... - \u001b[2K\u001b[1Gparts=[Parts(number='Q-100', name=''), Parts(number='Q-200', name=''), Parts(number='X-1', name=''), Parts(number='X-2', name=''), Parts(number='X-3', name=''), Parts(number='X-4', name=''), Parts(number='X-5', name=''), Parts(number='Y-10', name=''), Parts(number='Z-001', name=''), Parts(number='QC-A', name=''), Parts(number='QC-B', name=''), Parts(number='E-7', name='')] name='Quantum Dynamics lab'\n",
      "Part 0 number='Q-100' name=''\n",
      "Part 1 number='Q-200' name=''\n",
      "Part 2 number='X-1' name=''\n",
      "Part 3 number='X-2' name=''\n",
      "Part 4 number='X-3' name=''\n",
      "Part 5 number='X-4' name=''\n",
      "Part 6 number='X-5' name=''\n",
      "Part 7 number='Y-10' name=''\n",
      "Part 8 number='Z-001' name=''\n",
      "Part 9 number='QC-A' name=''\n",
      "Part 10 number='QC-B' name=''\n",
      "Part 11 number='E-7' name=''\n",
      "Model Quantum Dynamics lab\n"
     ]
    }
   ],
   "source": [
    "user_prompt_ambigious_with_prompting = f\"Strictly extract if the data matches the expected schema, put None if the information is not there. Extract from the following data: {case_ambigious}\"\n",
    "respond_and_print(user_prompt_ambigious_with_prompting)"
   ]
  }
 ],
 "metadata": {
  "kernelspec": {
   "display_name": "myenv",
   "language": "python",
   "name": "python3"
  },
  "language_info": {
   "codemirror_mode": {
    "name": "ipython",
    "version": 3
   },
   "file_extension": ".py",
   "mimetype": "text/x-python",
   "name": "python",
   "nbconvert_exporter": "python",
   "pygments_lexer": "ipython3",
   "version": "3.11.7"
  }
 },
 "nbformat": 4,
 "nbformat_minor": 2
}
